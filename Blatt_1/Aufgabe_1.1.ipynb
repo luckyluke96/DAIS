{
 "cells": [
  {
   "cell_type": "code",
   "execution_count": 2,
   "metadata": {},
   "outputs": [],
   "source": [
    "import numpy as np"
   ]
  },
  {
   "cell_type": "code",
   "execution_count": 3,
   "metadata": {},
   "outputs": [],
   "source": [
    "arr = np.array([(7/2), (7/2.0), (7//2), (7//2.0), (7 % 2), \n",
    "                (16**2), (2+3*4), ((2+3)*4), (2**2*2+2), (2**2)*(2+2),\n",
    "                (1+2+3*4+5), ((1+2+3)*(4+5)),\n",
    "                (2<3 or 5<4), (2<3 and 5<4), (2<3 and 3>1), (2<3 and not 3>1)], dtype='object')"
   ]
  },
  {
   "cell_type": "code",
   "execution_count": 6,
   "metadata": {},
   "outputs": [
    {
     "name": "stdout",
     "output_type": "stream",
     "text": [
      "1\n",
      "3.5\n",
      "<class 'float'>\n",
      "2\n",
      "3.5\n",
      "<class 'float'>\n",
      "3\n",
      "3\n",
      "<class 'int'>\n",
      "4\n",
      "3.0\n",
      "<class 'float'>\n",
      "5\n",
      "1\n",
      "<class 'int'>\n",
      "6\n",
      "256\n",
      "<class 'int'>\n",
      "7\n",
      "14\n",
      "<class 'int'>\n",
      "8\n",
      "20\n",
      "<class 'int'>\n",
      "9\n",
      "10\n",
      "<class 'int'>\n",
      "10\n",
      "16\n",
      "<class 'int'>\n",
      "11\n",
      "20\n",
      "<class 'int'>\n",
      "12\n",
      "54\n",
      "<class 'int'>\n",
      "13\n",
      "True\n",
      "<class 'bool'>\n",
      "14\n",
      "False\n",
      "<class 'bool'>\n",
      "15\n",
      "True\n",
      "<class 'bool'>\n",
      "16\n",
      "False\n",
      "<class 'bool'>\n"
     ]
    }
   ],
   "source": [
    "for i in range(len(arr)):\n",
    "    print(i+1)\n",
    "    print(arr[i])\n",
    "    print(type(arr[i]))"
   ]
  },
  {
   "cell_type": "code",
   "execution_count": 7,
   "metadata": {},
   "outputs": [
    {
     "name": "stdout",
     "output_type": "stream",
     "text": [
      "23333\n",
      "<class 'str'>\n"
     ]
    }
   ],
   "source": [
    "print(\"2\" + \"3\" * 4)\n",
    "print(type(\"2\" + \"3\" * 4))"
   ]
  },
  {
   "cell_type": "code",
   "execution_count": 8,
   "metadata": {},
   "outputs": [
    {
     "name": "stdout",
     "output_type": "stream",
     "text": [
      "5\n",
      "<class 'int'>\n"
     ]
    }
   ],
   "source": [
    "param = len(\"2\"+\"3\"*4)\n",
    "print(param)\n",
    "print(type(param))"
   ]
  },
  {
   "cell_type": "code",
   "execution_count": 10,
   "metadata": {},
   "outputs": [
    {
     "name": "stdout",
     "output_type": "stream",
     "text": [
      "2 5\n"
     ]
    }
   ],
   "source": [
    "x=4\n",
    "y=x+1\n",
    "x=2\n",
    "print(x,y)"
   ]
  },
  {
   "cell_type": "code",
   "execution_count": 19,
   "metadata": {},
   "outputs": [
    {
     "name": "stdout",
     "output_type": "stream",
     "text": [
      "6 4\n"
     ]
    }
   ],
   "source": [
    "x,y = 2,6\n",
    "x,y = y,x +2\n",
    "print(x,y)"
   ]
  },
  {
   "cell_type": "code",
   "execution_count": 21,
   "metadata": {},
   "outputs": [
    {
     "name": "stdout",
     "output_type": "stream",
     "text": [
      "2 3 2\n"
     ]
    }
   ],
   "source": [
    "a, b = 2,3\n",
    "c, b = a, c + 1\n",
    "print(a , b , c)"
   ]
  },
  {
   "cell_type": "code",
   "execution_count": 16,
   "metadata": {},
   "outputs": [
    {
     "name": "stdout",
     "output_type": "stream",
     "text": [
      "True\n"
     ]
    }
   ],
   "source": [
    "x = 4\n",
    "y = 5\n",
    "p = x < y or x < z\n",
    "print(p)"
   ]
  },
  {
   "cell_type": "code",
   "execution_count": 22,
   "metadata": {},
   "outputs": [
    {
     "name": "stdout",
     "output_type": "stream",
     "text": [
      "2 3 2\n"
     ]
    }
   ],
   "source": [
    "a, b = 2,3\n",
    "c, b = a, c +1\n",
    "print(a,b,c)"
   ]
  }
 ],
 "metadata": {
  "kernelspec": {
   "display_name": "Python 3",
   "language": "python",
   "name": "python3"
  },
  "language_info": {
   "codemirror_mode": {
    "name": "ipython",
    "version": 3
   },
   "file_extension": ".py",
   "mimetype": "text/x-python",
   "name": "python",
   "nbconvert_exporter": "python",
   "pygments_lexer": "ipython3",
   "version": "3.9.4"
  }
 },
 "nbformat": 4,
 "nbformat_minor": 4
}
